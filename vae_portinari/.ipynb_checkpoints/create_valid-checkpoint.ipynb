{
 "cells": [
  {
   "cell_type": "code",
   "execution_count": 1,
   "metadata": {},
   "outputs": [],
   "source": [
    "import shutil\n",
    "import errno\n",
    "import zipfile\n",
    "import os\n",
    "import matplotlib.pyplot as plt\n",
    "import numpy as np\n",
    "from skimage.io import imread\n",
    "from skimage.io import imsave\n"
   ]
  },
  {
   "cell_type": "code",
   "execution_count": 2,
   "metadata": {},
   "outputs": [],
   "source": [
    "import pandas as pd\n",
    "attr = pd.read_csv('list_attr_celeba.csv')\n",
    "attr = attr.set_index('image_id')\n"
   ]
  },
  {
   "cell_type": "code",
   "execution_count": 3,
   "metadata": {},
   "outputs": [],
   "source": [
    "import numpy as np\n",
    "#from sklearn.model_selection import train_test_split\n",
    "\n",
    "IMG_RESOLUTION = (200, 200)\n",
    "IMG_NAME_LENGTH = 6\n",
    "\n",
    "file_path = \"data/Train/img_align_celeba/\"\n",
    "img_id = np.arange(1,len(attr.index)+1)\n",
    "img_path = []\n",
    "for i in range(len(img_id)):\n",
    "    img_path.append(file_path + (IMG_NAME_LENGTH - len(str(img_id[i])))*'0' + str(img_id[i]) + '.jpg')\n",
    "\n",
    "#print(img_path)\n",
    "# pick 80% as training set and 20% as validation set\n",
    "train_path_celeba = img_path[:int((0.8)*len(img_path))]\n",
    "val_path_celeba = img_path[int((0.8)*len(img_path)):]\n"
   ]
  },
  {
   "cell_type": "code",
   "execution_count": 4,
   "metadata": {},
   "outputs": [],
   "source": [
    "num_samples = 7\n",
    "\n",
    "rand_celeb_path = np.random.choice(train_path_celeba, size = num_samples, replace = False)\n",
    "#rand_portinari_train_path =  np.random.choice(train_path_portinari,size = num_samples, replace = False)\n",
    "#rand_portinari_val_path =  np.random.choice(train_path_portinari, size =num_samples, replace = False)\n",
    "rand_celeb_path = ['img_align_celeba/140131.jpg', 'img_align_celeba/040421.jpg', \n",
    "                   'img_align_celeba/137947.jpg', 'img_align_celeba/018733.jpg', \n",
    "                   'img_align_celeba/070031.jpg', 'img_align_celeba/107619.jpg', \n",
    "                   'img_align_celeba/129095.jpg']"
   ]
  },
  {
   "cell_type": "code",
   "execution_count": 5,
   "metadata": {},
   "outputs": [
    {
     "data": {
      "text/plain": [
       "['img_align_celeba/140131.jpg',\n",
       " 'img_align_celeba/040421.jpg',\n",
       " 'img_align_celeba/137947.jpg',\n",
       " 'img_align_celeba/018733.jpg',\n",
       " 'img_align_celeba/070031.jpg',\n",
       " 'img_align_celeba/107619.jpg',\n",
       " 'img_align_celeba/129095.jpg']"
      ]
     },
     "execution_count": 5,
     "metadata": {},
     "output_type": "execute_result"
    }
   ],
   "source": [
    "rand_celeb_path"
   ]
  },
  {
   "cell_type": "code",
   "execution_count": 6,
   "metadata": {},
   "outputs": [],
   "source": [
    "img_list = [imread('data/Train/' + img) for img in rand_celeb_path]"
   ]
  },
  {
   "cell_type": "code",
   "execution_count": 7,
   "metadata": {},
   "outputs": [
    {
     "data": {
      "text/plain": [
       "(7, 218, 178, 3)"
      ]
     },
     "execution_count": 7,
     "metadata": {},
     "output_type": "execute_result"
    }
   ],
   "source": [
    "np.array(img_list).shape"
   ]
  },
  {
   "cell_type": "code",
   "execution_count": 9,
   "metadata": {},
   "outputs": [],
   "source": [
    "for img, name in zip(img_list, rand_celeb_path):\n",
    "    imsave('data/Validation/'+name, img) "
   ]
  },
  {
   "cell_type": "code",
   "execution_count": null,
   "metadata": {},
   "outputs": [],
   "source": []
  }
 ],
 "metadata": {
  "kernelspec": {
   "display_name": "Python 3",
   "language": "python",
   "name": "python3"
  },
  "language_info": {
   "codemirror_mode": {
    "name": "ipython",
    "version": 3
   },
   "file_extension": ".py",
   "mimetype": "text/x-python",
   "name": "python",
   "nbconvert_exporter": "python",
   "pygments_lexer": "ipython3",
   "version": "3.7.4"
  }
 },
 "nbformat": 4,
 "nbformat_minor": 2
}
